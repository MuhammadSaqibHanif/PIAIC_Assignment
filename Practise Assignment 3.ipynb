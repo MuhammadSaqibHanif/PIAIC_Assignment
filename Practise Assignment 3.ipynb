{
 "cells": [
  {
   "cell_type": "markdown",
   "metadata": {},
   "source": [
    "# Q1:"
   ]
  },
  {
   "cell_type": "markdown",
   "metadata": {},
   "source": [
    "Think of at least three kinds of your favorite pizza. Store these pizza names in a list, and then use a for loop to print the name of each pizza."
   ]
  },
  {
   "cell_type": "code",
   "execution_count": 1,
   "metadata": {},
   "outputs": [],
   "source": [
    "pizzas = [\"Chicken Tikka\", \"Super Supreme\", \"Seekh Kabab\"]"
   ]
  },
  {
   "cell_type": "code",
   "execution_count": 2,
   "metadata": {},
   "outputs": [
    {
     "name": "stdout",
     "output_type": "stream",
     "text": [
      "Chicken Tikka\n",
      "Super Supreme\n",
      "Seekh Kabab\n"
     ]
    }
   ],
   "source": [
    "for x in pizzas:\n",
    "    print(x)"
   ]
  },
  {
   "cell_type": "markdown",
   "metadata": {},
   "source": [
    "# Q2"
   ]
  },
  {
   "cell_type": "markdown",
   "metadata": {},
   "source": [
    "Start with your last question , Modify your for loop to print a sentence using the name of the pizza\n",
    "instead of printing just the name of the pizza. For each pizza you should\n",
    "have one line of output containing a simple statement like I like pepperoni\n",
    "pizza."
   ]
  },
  {
   "cell_type": "code",
   "execution_count": 3,
   "metadata": {},
   "outputs": [
    {
     "name": "stdout",
     "output_type": "stream",
     "text": [
      "I like Chicken Tikka Pizza\n",
      "I like Super Supreme Pizza\n",
      "I like Seekh Kabab Pizza\n"
     ]
    }
   ],
   "source": [
    "for x in pizzas:\n",
    "    print(f\"I like {x} Pizza\")"
   ]
  },
  {
   "cell_type": "markdown",
   "metadata": {},
   "source": [
    "# Q3:"
   ]
  },
  {
   "cell_type": "markdown",
   "metadata": {},
   "source": [
    "Use a for loop to print the numbers from 1 to 20,\n",
    "inclusive."
   ]
  },
  {
   "cell_type": "code",
   "execution_count": 4,
   "metadata": {},
   "outputs": [
    {
     "name": "stdout",
     "output_type": "stream",
     "text": [
      "0 1 2 3 4 5 6 7 8 9 10 11 12 13 14 15 16 17 18 19 20 "
     ]
    }
   ],
   "source": [
    "for x in range(0, 21):\n",
    "    print(x, end = \" \")"
   ]
  },
  {
   "cell_type": "markdown",
   "metadata": {},
   "source": [
    "# Q4:"
   ]
  },
  {
   "cell_type": "markdown",
   "metadata": {},
   "source": [
    "Use the third argument of the range() function to make a list\n",
    "of the odd numbers from 1 to 20. Use a for loop to print each number."
   ]
  },
  {
   "cell_type": "code",
   "execution_count": 5,
   "metadata": {},
   "outputs": [
    {
     "name": "stdout",
     "output_type": "stream",
     "text": [
      "1 3 5 7 9 11 13 15 17 19 "
     ]
    }
   ],
   "source": [
    "for x in range(1, 21, 2):\n",
    "    print(x, end = \" \")"
   ]
  },
  {
   "cell_type": "markdown",
   "metadata": {},
   "source": [
    "# Q5:"
   ]
  },
  {
   "cell_type": "markdown",
   "metadata": {},
   "source": [
    "Make a list of the multiples of 3 from 3 to 30. Use a for loop to\n",
    "print the numbers in your list."
   ]
  },
  {
   "cell_type": "code",
   "execution_count": 6,
   "metadata": {},
   "outputs": [
    {
     "name": "stdout",
     "output_type": "stream",
     "text": [
      "3 6 9 12 15 18 21 24 27 30 "
     ]
    }
   ],
   "source": [
    "for x in range(3, 31, 3):\n",
    "    print(x, end = \" \")"
   ]
  },
  {
   "cell_type": "markdown",
   "metadata": {},
   "source": [
    "# Q6:"
   ]
  },
  {
   "cell_type": "markdown",
   "metadata": {},
   "source": [
    "A number raised to the third power is called a cube. For example,\n",
    "the cube of 2 is written as 2**3 in Python. Make a list of the first 10 cubes (that\n",
    "is, the cube of each integer from 1 through 10), and use a for loop to print out\n",
    "the value of each cube"
   ]
  },
  {
   "cell_type": "code",
   "execution_count": 7,
   "metadata": {},
   "outputs": [
    {
     "name": "stdout",
     "output_type": "stream",
     "text": [
      "1 8 27 64 125 216 343 512 729 1000 "
     ]
    }
   ],
   "source": [
    "for x in range(1, 11):\n",
    "    x = x**3\n",
    "    print(x, end = \" \")"
   ]
  },
  {
   "cell_type": "markdown",
   "metadata": {},
   "source": [
    "# Q7:"
   ]
  },
  {
   "cell_type": "markdown",
   "metadata": {},
   "source": [
    "###### Make a python program that conatains your nine favourite dishes in a list called foods.\n",
    "\n",
    "###### Print the message, The first three items in the list are:. \n",
    "###### Then use a slice to print the first three items from that program’s list.\n",
    "\n",
    "###### Print the message, Three items from the middle of the list are:\n",
    "###### Use a slice to print three items from the middle of the list.\n",
    "\n",
    "###### Print the message, The last three items in the list are:\n",
    "###### Use a slice to print the last three items in the list."
   ]
  },
  {
   "cell_type": "code",
   "execution_count": 8,
   "metadata": {},
   "outputs": [],
   "source": [
    "foods = ['Pizza', 'Biryani', 'Karahi', 'Zinger', 'Tikka', 'Pizza Fries', 'Broast', 'Nihari', 'Chicken Roll']"
   ]
  },
  {
   "cell_type": "code",
   "execution_count": 9,
   "metadata": {},
   "outputs": [
    {
     "name": "stdout",
     "output_type": "stream",
     "text": [
      "The first three items in the list are: ['Pizza', 'Biryani', 'Karahi']\n"
     ]
    }
   ],
   "source": [
    "print(f\"The first three items in the list are: {foods[0:3]}\")"
   ]
  },
  {
   "cell_type": "code",
   "execution_count": 10,
   "metadata": {},
   "outputs": [
    {
     "name": "stdout",
     "output_type": "stream",
     "text": [
      "Three items from the middle of the list are: ['Zinger', 'Tikka', 'Pizza Fries']\n"
     ]
    }
   ],
   "source": [
    "print(f\"Three items from the middle of the list are: {foods[3:6]}\")"
   ]
  },
  {
   "cell_type": "code",
   "execution_count": 11,
   "metadata": {},
   "outputs": [
    {
     "name": "stdout",
     "output_type": "stream",
     "text": [
      "TThe last three items in the list are: ['Broast', 'Nihari', 'Chicken Roll']\n"
     ]
    }
   ],
   "source": [
    "print(f\"TThe last three items in the list are: {foods[6:9]}\")"
   ]
  },
  {
   "cell_type": "markdown",
   "metadata": {},
   "source": [
    "# Q8:"
   ]
  },
  {
   "cell_type": "markdown",
   "metadata": {},
   "source": [
    "### Start with your program from your last Question8.\n",
    "###### Make a copy of the list of foods, and call it friend_foods.\n",
    "###### Then, do the following:\n",
    "######    Add a new dish to the original list.\n",
    "######    Add a different dish to the list friend_foodss.\n",
    "######    Prove that you have two separate lists. \n",
    "###### Print the message, My favorite pizzas are: and then use a for loop to print the first list. \n",
    "###### Print the message,\n",
    "###### My friend’s favorite foods are:, and then use a for loop to print the second list.\n",
    "    \n",
    "##### NOTE: Make sure each new dish is stored in the appropriate list."
   ]
  },
  {
   "cell_type": "code",
   "execution_count": 12,
   "metadata": {},
   "outputs": [
    {
     "name": "stdout",
     "output_type": "stream",
     "text": [
      "['Pizza', 'Biryani', 'Karahi', 'Zinger', 'Tikka', 'Pizza Fries', 'Broast', 'Nihari', 'Chicken Roll']\n",
      "['Pizza', 'Biryani', 'Karahi', 'Zinger', 'Tikka', 'Pizza Fries', 'Broast', 'Nihari', 'Chicken Roll']\n"
     ]
    }
   ],
   "source": [
    "friend_foods = foods[0:]\n",
    "print(friend_foods)\n",
    "print(foods)"
   ]
  },
  {
   "cell_type": "code",
   "execution_count": 13,
   "metadata": {},
   "outputs": [
    {
     "name": "stdout",
     "output_type": "stream",
     "text": [
      "['Pizza', 'Biryani', 'Karahi', 'Zinger', 'Tikka', 'Pizza Fries', 'Broast', 'Nihari', 'Chicken Roll', 'Qeema']\n"
     ]
    }
   ],
   "source": [
    "foods.append(\"Qeema\")\n",
    "print(foods)"
   ]
  },
  {
   "cell_type": "code",
   "execution_count": 14,
   "metadata": {},
   "outputs": [
    {
     "name": "stdout",
     "output_type": "stream",
     "text": [
      "['Pizza', 'Biryani', 'Karahi', 'Zinger', 'Tikka', 'Pizza Fries', 'Broast', 'Nihari', 'Chicken Roll', 'Pulao']\n"
     ]
    }
   ],
   "source": [
    "friend_foods.append('Pulao')\n",
    "print(friend_foods)"
   ]
  },
  {
   "cell_type": "code",
   "execution_count": 15,
   "metadata": {},
   "outputs": [
    {
     "name": "stdout",
     "output_type": "stream",
     "text": [
      "My favorite foods are: Pizza\n",
      "My favorite foods are: Biryani\n",
      "My favorite foods are: Karahi\n",
      "My favorite foods are: Zinger\n",
      "My favorite foods are: Tikka\n",
      "My favorite foods are: Pizza Fries\n",
      "My favorite foods are: Broast\n",
      "My favorite foods are: Nihari\n",
      "My favorite foods are: Chicken Roll\n",
      "My favorite foods are: Qeema\n"
     ]
    }
   ],
   "source": [
    "for x in foods:\n",
    "    print(f\"My favorite foods are: {x}\")"
   ]
  },
  {
   "cell_type": "code",
   "execution_count": 16,
   "metadata": {},
   "outputs": [
    {
     "name": "stdout",
     "output_type": "stream",
     "text": [
      "My friend’s favorite foods are: Pizza\n",
      "My friend’s favorite foods are: Biryani\n",
      "My friend’s favorite foods are: Karahi\n",
      "My friend’s favorite foods are: Zinger\n",
      "My friend’s favorite foods are: Tikka\n",
      "My friend’s favorite foods are: Pizza Fries\n",
      "My friend’s favorite foods are: Broast\n",
      "My friend’s favorite foods are: Nihari\n",
      "My friend’s favorite foods are: Chicken Roll\n",
      "My friend’s favorite foods are: Pulao\n"
     ]
    }
   ],
   "source": [
    "for x in friend_foods:\n",
    "    print(f\"My friend’s favorite foods are: {x}\")"
   ]
  },
  {
   "cell_type": "markdown",
   "metadata": {},
   "source": [
    "# Q9:"
   ]
  },
  {
   "cell_type": "markdown",
   "metadata": {},
   "source": [
    "Take a user input from console line.Store it in a variable called Alien_color.\n",
    "\n",
    "If the alien’s color is red, print a statement that the player just earned 5 points for shooting the alien.\n",
    "\n",
    "If the alien’s color isn’t green, print a statement that the player just earned 10 points.\n",
    "\n",
    "If the alien's color isn't red or green , print a statment :, Alien is no more....."
   ]
  },
  {
   "cell_type": "code",
   "execution_count": 17,
   "metadata": {},
   "outputs": [
    {
     "name": "stdout",
     "output_type": "stream",
     "text": [
      "Enter your favorite color: red\n",
      "You earned 5 points for shooting the alien.\n"
     ]
    }
   ],
   "source": [
    "alien_color = input('Enter your favorite color: ')\n",
    "if alien_color == \"red\":\n",
    "    print('You earned 5 points for shooting the alien.')\n",
    "elif alien_color == \"green\":\n",
    "    print('You earned 10 points.') \n",
    "else:\n",
    "    print('Alien is no more.....')"
   ]
  },
  {
   "cell_type": "markdown",
   "metadata": {},
   "source": [
    "# Q10:"
   ]
  },
  {
   "cell_type": "markdown",
   "metadata": {},
   "source": [
    "Write an if-elif-else chain that determines a person’s\n",
    "stage of life. Set a value for the variable age, and then:\n",
    "    \n",
    "•\t If the person is less than 2 years old, print a message that the person is a baby.\n",
    "\n",
    "•\t If the person is at least 2 years old but less than 4, print a message that the person is a toddler.\n",
    "\n",
    "•\t If the person is at least 4 years old but less than 13, print a message that the person is a kid.\n",
    "\n",
    "•\t If the person is at least 13 years old but less than 20, print a message that the person is a teenager.\n",
    "\n",
    "•\t If the person is at least 20 years old but less than 65, print a message that the person is an adult.\n",
    "\n",
    "•\t If the person is age 65 or older, print a message that the person is an elder."
   ]
  },
  {
   "cell_type": "code",
   "execution_count": 18,
   "metadata": {},
   "outputs": [
    {
     "name": "stdout",
     "output_type": "stream",
     "text": [
      "Enter Your age: 26\n",
      " person is a adult\n"
     ]
    }
   ],
   "source": [
    "age = int(input('Enter Your age: '))\n",
    "if age < 2:\n",
    "    print('You are a baby')\n",
    "elif age == 2 or age < 4:\n",
    "    print('person is a toddler')\n",
    "elif age == 4 or age < 13:\n",
    "    print(' person is a kid')\n",
    "elif age == 13 or age < 20:\n",
    "    print(' person is a teenager')   \n",
    "elif age == 20 or age < 65:\n",
    "    print(' person is a adult')    \n",
    "else:\n",
    "    print(' person is a elder')  "
   ]
  },
  {
   "cell_type": "markdown",
   "metadata": {},
   "source": [
    "# Q11:"
   ]
  },
  {
   "cell_type": "markdown",
   "metadata": {},
   "source": [
    "Do the following to create a program that simulates how websites ensure that everyone has a unique username.\n",
    "\n",
    "•\t Make a list of five or more usernames called current_users.\n",
    "\n",
    "•\t Make another list of five usernames called new_users. \n",
    "Make sure one or two of the new usernames are also in the current_users list.\n",
    "\n",
    "•\t Loop through the new_users list to see if each new username has already been used. \n",
    "If it has, print a message that the person will need to enter a new username. \n",
    "If a username has not been used, print a message saying that the username is available.\n",
    "\n",
    "•\t Make sure your comparison is case insensitive. If 'John' has been used, 'JOHN' should not be accepted."
   ]
  },
  {
   "cell_type": "code",
   "execution_count": 19,
   "metadata": {},
   "outputs": [
    {
     "name": "stdout",
     "output_type": "stream",
     "text": [
      "username is available.\n",
      "username is available.\n",
      "username is available.\n",
      "person will need to enter a new username\n",
      "person will need to enter a new username\n"
     ]
    }
   ],
   "source": [
    "current_users = ['a', 'b', 'c', 'd', 'e']\n",
    "new_users = ['z', 'x', 't', 'e', 'a']\n",
    "\n",
    "for x in new_users: \n",
    "    a = 0\n",
    "    for y in current_users:\n",
    "        a += 1\n",
    "        if x == y:\n",
    "            print('person will need to enter a new username')\n",
    "            break\n",
    "        elif x != y and a == 5:\n",
    "            print('username is available.')"
   ]
  },
  {
   "cell_type": "markdown",
   "metadata": {},
   "source": [
    "# Q12:"
   ]
  },
  {
   "cell_type": "markdown",
   "metadata": {},
   "source": [
    "Use a dictionary to store information about a person you know.\n",
    "Store their first name, last name, age, and the city in which they live. \n",
    "You should have keys such as first_name, last_name, age, and city. \n",
    "Print each piece of information stored in your dictionary"
   ]
  },
  {
   "cell_type": "code",
   "execution_count": 20,
   "metadata": {},
   "outputs": [
    {
     "name": "stdout",
     "output_type": "stream",
     "text": [
      "first_name: Mark\n",
      "last_name: Myers\n",
      "age: 60\n",
      "city: New York\n"
     ]
    }
   ],
   "source": [
    "dict = {\n",
    "    \"first_name\": \"Mark\",\n",
    "    \"last_name\": \"Myers\",\n",
    "    \"age\": 60,\n",
    "    \"city\": \"New York\"\n",
    "}\n",
    "for x, y in dict.items():\n",
    "    print(f\"{x}: {y}\")"
   ]
  },
  {
   "cell_type": "markdown",
   "metadata": {},
   "source": [
    "# Q13:"
   ]
  },
  {
   "cell_type": "markdown",
   "metadata": {},
   "source": [
    "Starts with your last question 12 , loop through the dictionary’s keys and values.\n",
    "When you’re sure that your loop works, add five more Python terms to your\n",
    "dictionary . When you run your program again, these new words and meanings\n",
    "should automatically be included in the output."
   ]
  },
  {
   "cell_type": "code",
   "execution_count": 21,
   "metadata": {},
   "outputs": [],
   "source": [
    "dict[\"country\"] = \"USA\"\n",
    "dict[\"gender\"] = \"Male\"\n",
    "dict[\"phone\"] = 123456\n",
    "dict[\"book\"] = \"A Smarter Way to Learn Python\"\n",
    "dict[\"profession\"] = \"Author\""
   ]
  },
  {
   "cell_type": "code",
   "execution_count": 22,
   "metadata": {},
   "outputs": [
    {
     "name": "stdout",
     "output_type": "stream",
     "text": [
      "first_name: Mark\n",
      "last_name: Myers\n",
      "age: 60\n",
      "city: New York\n",
      "country: USA\n",
      "gender: Male\n",
      "phone: 123456\n",
      "book: A Smarter Way to Learn Python\n",
      "profession: Author\n"
     ]
    }
   ],
   "source": [
    "for x, y in dict.items():\n",
    "    print(f\"{x}: {y}\")"
   ]
  },
  {
   "cell_type": "markdown",
   "metadata": {},
   "source": [
    "# Q14:"
   ]
  },
  {
   "cell_type": "markdown",
   "metadata": {},
   "source": [
    "Make a dictionary containing three major rivers and the country\n",
    "each river runs through. One key-value pair might be 'nile': 'egypt'.\n",
    "    \n",
    "    \n",
    "•\t Use a loop to print a sentence about each river, such as The Nile runs\n",
    "through Egypt.\n",
    "\n",
    "NOTE: use upper case through keys and values."
   ]
  },
  {
   "cell_type": "code",
   "execution_count": 23,
   "metadata": {},
   "outputs": [
    {
     "name": "stdout",
     "output_type": "stream",
     "text": [
      "The NILE runs through EGYPT\n",
      "The INDUS runs through PAKISTAN\n",
      "The ABC runs through XYZ\n"
     ]
    }
   ],
   "source": [
    "river = {\n",
    "    \"nile\": \"egypt\",\n",
    "    \"indus\": \"pakistan\",\n",
    "    \"abc\": \"xyz\",\n",
    "}\n",
    "for x, y in river.items():\n",
    "    print(f\"The {x.upper()} runs through {y.upper()}\")"
   ]
  },
  {
   "cell_type": "markdown",
   "metadata": {},
   "source": [
    "# Q15:"
   ]
  },
  {
   "cell_type": "markdown",
   "metadata": {},
   "source": [
    "Make several dictionaries, where the name of each dictionary is the\n",
    "name of a pet. In each dictionary, include the kind of animal and the owner’s\n",
    "name. Store these dictionaries in a list called pets. Next, loop through your list\n",
    "and as you do print everything you know about each pet."
   ]
  },
  {
   "cell_type": "code",
   "execution_count": 25,
   "metadata": {},
   "outputs": [
    {
     "name": "stdout",
     "output_type": "stream",
     "text": [
      "kind is y\n",
      "owner is john\n",
      "kind is x\n",
      "owner is peter\n",
      "kind is z\n",
      "owner is khan\n"
     ]
    }
   ],
   "source": [
    "cat = {\n",
    "    \"kind\": \"y\",\n",
    "    \"owner\": \"john\",\n",
    "}\n",
    "dog = {\n",
    "    \"kind\": \"x\",\n",
    "    \"owner\": \"peter\",\n",
    "}\n",
    "cow = {\n",
    "    \"kind\": \"z\",\n",
    "    \"owner\": \"khan\",\n",
    "}\n",
    "pets = [cat, dog, cow]\n",
    "for x in pets:\n",
    "    for y, a in x.items():\n",
    "        print(f\"{y} is {a}\")"
   ]
  }
 ],
 "metadata": {
  "kernelspec": {
   "display_name": "Python 3",
   "language": "python",
   "name": "python3"
  },
  "language_info": {
   "codemirror_mode": {
    "name": "ipython",
    "version": 3
   },
   "file_extension": ".py",
   "mimetype": "text/x-python",
   "name": "python",
   "nbconvert_exporter": "python",
   "pygments_lexer": "ipython3",
   "version": "3.7.3"
  }
 },
 "nbformat": 4,
 "nbformat_minor": 2
}
